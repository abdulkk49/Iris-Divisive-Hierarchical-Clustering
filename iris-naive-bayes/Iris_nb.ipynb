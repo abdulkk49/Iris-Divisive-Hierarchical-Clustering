{
  "nbformat": 4,
  "nbformat_minor": 0,
  "metadata": {
    "colab": {
      "name": "IRIS_NB.ipynb",
      "provenance": []
    },
    "kernelspec": {
      "name": "python3",
      "display_name": "Python 3"
    }
  },
  "cells": [
    {
      "cell_type": "code",
      "metadata": {
        "id": "Z-9u1Zw9xFdU",
        "colab_type": "code",
        "colab": {
          "base_uri": "https://localhost:8080/",
          "height": 34
        },
        "outputId": "38194669-7a10-4a7a-8d1a-ffcf0cb0ecd7"
      },
      "source": [
        "cd drive/My\\ Drive/"
      ],
      "execution_count": 1,
      "outputs": [
        {
          "output_type": "stream",
          "text": [
            "/content/drive/My Drive\n"
          ],
          "name": "stdout"
        }
      ]
    },
    {
      "cell_type": "code",
      "metadata": {
        "id": "ch4GngCkxDzt",
        "colab_type": "code",
        "colab": {}
      },
      "source": [
        "import numpy as np \n",
        "import pandas as pd\n",
        "from sklearn.naive_bayes import GaussianNB\n",
        "from sklearn import model_selection\n",
        "from sklearn.model_selection import train_test_split\n",
        "from sklearn.metrics import classification_report\n",
        "from sklearn.metrics import confusion_matrix\n",
        "from sklearn.metrics import accuracy_score"
      ],
      "execution_count": 0,
      "outputs": []
    },
    {
      "cell_type": "code",
      "metadata": {
        "id": "AAWNy2x8xYnx",
        "colab_type": "code",
        "colab": {
          "base_uri": "https://localhost:8080/",
          "height": 206
        },
        "outputId": "4657f9ca-6e10-40b5-ae92-8984e7cf6e86"
      },
      "source": [
        "#load the csv file\n",
        "df=pd.read_csv('./datasets_19_420_Iris.csv')\n",
        "#Replace Species type with numbers\n",
        "df.Species.replace(['Iris-setosa', 'Iris-versicolor', 'Iris-virginica'], [1, 2, 3], inplace=True)\n",
        "df.head()"
      ],
      "execution_count": 75,
      "outputs": [
        {
          "output_type": "execute_result",
          "data": {
            "text/html": [
              "<div>\n",
              "<style scoped>\n",
              "    .dataframe tbody tr th:only-of-type {\n",
              "        vertical-align: middle;\n",
              "    }\n",
              "\n",
              "    .dataframe tbody tr th {\n",
              "        vertical-align: top;\n",
              "    }\n",
              "\n",
              "    .dataframe thead th {\n",
              "        text-align: right;\n",
              "    }\n",
              "</style>\n",
              "<table border=\"1\" class=\"dataframe\">\n",
              "  <thead>\n",
              "    <tr style=\"text-align: right;\">\n",
              "      <th></th>\n",
              "      <th>Id</th>\n",
              "      <th>SepalLengthCm</th>\n",
              "      <th>SepalWidthCm</th>\n",
              "      <th>PetalLengthCm</th>\n",
              "      <th>PetalWidthCm</th>\n",
              "      <th>Species</th>\n",
              "    </tr>\n",
              "  </thead>\n",
              "  <tbody>\n",
              "    <tr>\n",
              "      <th>0</th>\n",
              "      <td>1</td>\n",
              "      <td>5.1</td>\n",
              "      <td>3.5</td>\n",
              "      <td>1.4</td>\n",
              "      <td>0.2</td>\n",
              "      <td>1</td>\n",
              "    </tr>\n",
              "    <tr>\n",
              "      <th>1</th>\n",
              "      <td>2</td>\n",
              "      <td>4.9</td>\n",
              "      <td>3.0</td>\n",
              "      <td>1.4</td>\n",
              "      <td>0.2</td>\n",
              "      <td>1</td>\n",
              "    </tr>\n",
              "    <tr>\n",
              "      <th>2</th>\n",
              "      <td>3</td>\n",
              "      <td>4.7</td>\n",
              "      <td>3.2</td>\n",
              "      <td>1.3</td>\n",
              "      <td>0.2</td>\n",
              "      <td>1</td>\n",
              "    </tr>\n",
              "    <tr>\n",
              "      <th>3</th>\n",
              "      <td>4</td>\n",
              "      <td>4.6</td>\n",
              "      <td>3.1</td>\n",
              "      <td>1.5</td>\n",
              "      <td>0.2</td>\n",
              "      <td>1</td>\n",
              "    </tr>\n",
              "    <tr>\n",
              "      <th>4</th>\n",
              "      <td>5</td>\n",
              "      <td>5.0</td>\n",
              "      <td>3.6</td>\n",
              "      <td>1.4</td>\n",
              "      <td>0.2</td>\n",
              "      <td>1</td>\n",
              "    </tr>\n",
              "  </tbody>\n",
              "</table>\n",
              "</div>"
            ],
            "text/plain": [
              "   Id  SepalLengthCm  SepalWidthCm  PetalLengthCm  PetalWidthCm  Species\n",
              "0   1            5.1           3.5            1.4           0.2        1\n",
              "1   2            4.9           3.0            1.4           0.2        1\n",
              "2   3            4.7           3.2            1.3           0.2        1\n",
              "3   4            4.6           3.1            1.5           0.2        1\n",
              "4   5            5.0           3.6            1.4           0.2        1"
            ]
          },
          "metadata": {
            "tags": []
          },
          "execution_count": 75
        }
      ]
    },
    {
      "cell_type": "code",
      "metadata": {
        "id": "InLTg4koxmgf",
        "colab_type": "code",
        "colab": {
          "base_uri": "https://localhost:8080/",
          "height": 34
        },
        "outputId": "7e037d25-9d90-4d1a-871a-36b3ca0d836c"
      },
      "source": [
        "#Initialize Gaussian Naive Bayes Classifier\n",
        "clf = GaussianNB()\n",
        "\n",
        "# Split into labels\n",
        "array = df.values\n",
        "print(array[0])\n",
        "X = array[:,1:5]\n",
        "Y = array[:,5]"
      ],
      "execution_count": 76,
      "outputs": [
        {
          "output_type": "stream",
          "text": [
            "[1.  5.1 3.5 1.4 0.2 1. ]\n"
          ],
          "name": "stdout"
        }
      ]
    },
    {
      "cell_type": "code",
      "metadata": {
        "id": "yM7_AbPsyOC6",
        "colab_type": "code",
        "colab": {
          "base_uri": "https://localhost:8080/",
          "height": 34
        },
        "outputId": "49f74b80-c61a-46b4-9d85-59c75890d3f7"
      },
      "source": [
        "# One-third of data as a part of test set\n",
        "validation_size = 0.33\n",
        "\n",
        "seed = 71\n",
        "X_train, X_validation, Y_train, Y_validation = model_selection.train_test_split(X, Y, test_size=validation_size, random_state=seed)\n",
        "\n",
        "# Evaluation metric\n",
        "scoring = 'accuracy'\n",
        "\n",
        "# Fitting the training set\n",
        "clf.fit(X_train, Y_train)"
      ],
      "execution_count": 77,
      "outputs": [
        {
          "output_type": "execute_result",
          "data": {
            "text/plain": [
              "GaussianNB(priors=None, var_smoothing=1e-09)"
            ]
          },
          "metadata": {
            "tags": []
          },
          "execution_count": 77
        }
      ]
    },
    {
      "cell_type": "code",
      "metadata": {
        "id": "DaWMscFdyXo4",
        "colab_type": "code",
        "colab": {}
      },
      "source": [
        "#Predicting for the Test Set\n",
        "pred_clf = clf.predict(X_validation)\n",
        "\n",
        "#Prediction Probability\n",
        "prob_pos_clf = clf.predict_proba(X_validation)[:, 1]"
      ],
      "execution_count": 0,
      "outputs": []
    },
    {
      "cell_type": "code",
      "metadata": {
        "id": "I6Cf24VmzXen",
        "colab_type": "code",
        "colab": {
          "base_uri": "https://localhost:8080/",
          "height": 206
        },
        "outputId": "ebaae30f-3ebf-441d-a0e6-95c509a35d87"
      },
      "source": [
        "#Create the prediction file by concatenation of the original data and predictions\n",
        "#Reshaping needed to perform the concatenation\n",
        "pred_clf_df = pd.DataFrame(pred_clf.reshape(50,1))\n",
        "#Column renaming to indicate the predictions\n",
        "pred_clf_df.rename(columns={0:'Prediction'}, inplace=True)\n",
        "#reshaping the test dataset\n",
        "X_validation_df = pd.DataFrame(X_validation.reshape(50,4))\n",
        "pred_clf_df.head()"
      ],
      "execution_count": 80,
      "outputs": [
        {
          "output_type": "execute_result",
          "data": {
            "text/html": [
              "<div>\n",
              "<style scoped>\n",
              "    .dataframe tbody tr th:only-of-type {\n",
              "        vertical-align: middle;\n",
              "    }\n",
              "\n",
              "    .dataframe tbody tr th {\n",
              "        vertical-align: top;\n",
              "    }\n",
              "\n",
              "    .dataframe thead th {\n",
              "        text-align: right;\n",
              "    }\n",
              "</style>\n",
              "<table border=\"1\" class=\"dataframe\">\n",
              "  <thead>\n",
              "    <tr style=\"text-align: right;\">\n",
              "      <th></th>\n",
              "      <th>Prediction</th>\n",
              "    </tr>\n",
              "  </thead>\n",
              "  <tbody>\n",
              "    <tr>\n",
              "      <th>0</th>\n",
              "      <td>3.0</td>\n",
              "    </tr>\n",
              "    <tr>\n",
              "      <th>1</th>\n",
              "      <td>1.0</td>\n",
              "    </tr>\n",
              "    <tr>\n",
              "      <th>2</th>\n",
              "      <td>2.0</td>\n",
              "    </tr>\n",
              "    <tr>\n",
              "      <th>3</th>\n",
              "      <td>3.0</td>\n",
              "    </tr>\n",
              "    <tr>\n",
              "      <th>4</th>\n",
              "      <td>2.0</td>\n",
              "    </tr>\n",
              "  </tbody>\n",
              "</table>\n",
              "</div>"
            ],
            "text/plain": [
              "   Prediction\n",
              "0         3.0\n",
              "1         1.0\n",
              "2         2.0\n",
              "3         3.0\n",
              "4         2.0"
            ]
          },
          "metadata": {
            "tags": []
          },
          "execution_count": 80
        }
      ]
    },
    {
      "cell_type": "code",
      "metadata": {
        "id": "KGEdb13ty0Nj",
        "colab_type": "code",
        "colab": {
          "base_uri": "https://localhost:8080/",
          "height": 206
        },
        "outputId": "b16a3868-6578-45a5-bb3d-564db53a5768"
      },
      "source": [
        "#concatenating the two pandas dataframes over the columns to create a prediction dataset\n",
        "pred_outcome = pd.concat([X_validation_df, pred_clf_df], axis=1)\n",
        "\n",
        "pred_outcome.rename(columns = {0:'SepalLengthCm', 1:'SepalWidthCm', 2:'PetalLengthCm', 3:'PetalWidthCm'}, inplace=True)\n",
        "pred_outcome.head()"
      ],
      "execution_count": 81,
      "outputs": [
        {
          "output_type": "execute_result",
          "data": {
            "text/html": [
              "<div>\n",
              "<style scoped>\n",
              "    .dataframe tbody tr th:only-of-type {\n",
              "        vertical-align: middle;\n",
              "    }\n",
              "\n",
              "    .dataframe tbody tr th {\n",
              "        vertical-align: top;\n",
              "    }\n",
              "\n",
              "    .dataframe thead th {\n",
              "        text-align: right;\n",
              "    }\n",
              "</style>\n",
              "<table border=\"1\" class=\"dataframe\">\n",
              "  <thead>\n",
              "    <tr style=\"text-align: right;\">\n",
              "      <th></th>\n",
              "      <th>SepalLengthCm</th>\n",
              "      <th>SepalWidthCm</th>\n",
              "      <th>PetalLengthCm</th>\n",
              "      <th>PetalWidthCm</th>\n",
              "      <th>Prediction</th>\n",
              "    </tr>\n",
              "  </thead>\n",
              "  <tbody>\n",
              "    <tr>\n",
              "      <th>0</th>\n",
              "      <td>6.4</td>\n",
              "      <td>2.8</td>\n",
              "      <td>5.6</td>\n",
              "      <td>2.2</td>\n",
              "      <td>3.0</td>\n",
              "    </tr>\n",
              "    <tr>\n",
              "      <th>1</th>\n",
              "      <td>5.1</td>\n",
              "      <td>3.8</td>\n",
              "      <td>1.6</td>\n",
              "      <td>0.2</td>\n",
              "      <td>1.0</td>\n",
              "    </tr>\n",
              "    <tr>\n",
              "      <th>2</th>\n",
              "      <td>5.5</td>\n",
              "      <td>2.3</td>\n",
              "      <td>4.0</td>\n",
              "      <td>1.3</td>\n",
              "      <td>2.0</td>\n",
              "    </tr>\n",
              "    <tr>\n",
              "      <th>3</th>\n",
              "      <td>6.2</td>\n",
              "      <td>2.8</td>\n",
              "      <td>4.8</td>\n",
              "      <td>1.8</td>\n",
              "      <td>3.0</td>\n",
              "    </tr>\n",
              "    <tr>\n",
              "      <th>4</th>\n",
              "      <td>5.2</td>\n",
              "      <td>2.7</td>\n",
              "      <td>3.9</td>\n",
              "      <td>1.4</td>\n",
              "      <td>2.0</td>\n",
              "    </tr>\n",
              "  </tbody>\n",
              "</table>\n",
              "</div>"
            ],
            "text/plain": [
              "   SepalLengthCm  SepalWidthCm  PetalLengthCm  PetalWidthCm  Prediction\n",
              "0            6.4           2.8            5.6           2.2         3.0\n",
              "1            5.1           3.8            1.6           0.2         1.0\n",
              "2            5.5           2.3            4.0           1.3         2.0\n",
              "3            6.2           2.8            4.8           1.8         3.0\n",
              "4            5.2           2.7            3.9           1.4         2.0"
            ]
          },
          "metadata": {
            "tags": []
          },
          "execution_count": 81
        }
      ]
    },
    {
      "cell_type": "code",
      "metadata": {
        "id": "Sm3Oe1WPwyTw",
        "colab_type": "code",
        "colab": {
          "base_uri": "https://localhost:8080/",
          "height": 625
        },
        "outputId": "858d7238-9a73-4012-a13d-6bb1c962fd70"
      },
      "source": [
        "#merging the prediction with original dataset\n",
        "pred_comp = pd.merge(df,pred_outcome, on=['SepalLengthCm','SepalWidthCm','PetalLengthCm','PetalWidthCm'])\n",
        "\n",
        "#print top 10 lines of the final predictions\n",
        "print((pred_comp).head(30))\n",
        "print (\"\\n\")\n",
        "\n",
        "#Save the file to csv\n",
        "pred_comp.to_csv('Predictions.csv', sep=',')\n",
        "\n",
        "#Save the file to Excel\n",
        "from pandas import ExcelWriter\n",
        "\n",
        "writer = ExcelWriter('IrisPredictions.xlsx')\n",
        "pred_comp.to_excel(writer,'Sheet1')\n",
        "writer.save()"
      ],
      "execution_count": 87,
      "outputs": [
        {
          "output_type": "stream",
          "text": [
            "    SepalLengthCm  SepalWidthCm  ...  Species  Prediction\n",
            "0             5.0           3.6  ...        1         1.0\n",
            "1             5.4           3.9  ...        1         1.0\n",
            "2             4.6           3.4  ...        1         1.0\n",
            "3             5.0           3.4  ...        1         1.0\n",
            "4             4.9           3.1  ...        1         1.0\n",
            "5             4.9           3.1  ...        1         1.0\n",
            "6             4.9           3.1  ...        1         1.0\n",
            "7             4.8           3.0  ...        1         1.0\n",
            "8             5.1           3.8  ...        1         1.0\n",
            "9             5.4           3.4  ...        1         1.0\n",
            "10            5.2           3.4  ...        1         1.0\n",
            "11            5.2           4.1  ...        1         1.0\n",
            "12            5.0           3.2  ...        1         1.0\n",
            "13            5.5           3.5  ...        1         1.0\n",
            "14            4.4           3.0  ...        1         1.0\n",
            "15            5.1           3.8  ...        1         1.0\n",
            "16            4.6           3.2  ...        1         1.0\n",
            "17            7.0           3.2  ...        2         2.0\n",
            "18            5.5           2.3  ...        2         2.0\n",
            "19            6.3           3.3  ...        2         2.0\n",
            "20            5.2           2.7  ...        2         2.0\n",
            "21            5.0           2.0  ...        2         2.0\n",
            "22            6.7           3.1  ...        2         2.0\n",
            "23            6.1           2.8  ...        2         2.0\n",
            "24            6.3           2.5  ...        2         2.0\n",
            "25            6.1           2.8  ...        2         2.0\n",
            "26            6.7           3.0  ...        2         3.0\n",
            "27            6.0           2.7  ...        2         2.0\n",
            "28            6.0           3.4  ...        2         2.0\n",
            "29            5.5           2.6  ...        2         2.0\n",
            "\n",
            "[30 rows x 6 columns]\n",
            "\n",
            "\n"
          ],
          "name": "stdout"
        }
      ]
    },
    {
      "cell_type": "code",
      "metadata": {
        "id": "rQkWxjDw4i_f",
        "colab_type": "code",
        "colab": {
          "base_uri": "https://localhost:8080/",
          "height": 89
        },
        "outputId": "901bf8fb-f0c9-44a7-8310-0eac681b50a2"
      },
      "source": [
        "#Model Performance\n",
        "#setting performance parameters\n",
        "kfold = model_selection.KFold(n_splits=10, random_state=seed)\n",
        "\n",
        "#calling the cross validation function\n",
        "cv_results = model_selection.cross_val_score(GaussianNB(), X_train, Y_train, cv=kfold, scoring=scoring)\n",
        "\n",
        "#displaying the mean and standard deviation of the prediction\n",
        "msg = \"%s: %f (%f)\" % ('NB accuracy', cv_results.mean(), cv_results.std())\n",
        "print(msg)"
      ],
      "execution_count": 88,
      "outputs": [
        {
          "output_type": "stream",
          "text": [
            "NB accuracy: 0.960000 (0.066332)\n"
          ],
          "name": "stdout"
        },
        {
          "output_type": "stream",
          "text": [
            "/usr/local/lib/python3.6/dist-packages/sklearn/model_selection/_split.py:296: FutureWarning: Setting a random_state has no effect since shuffle is False. This will raise an error in 0.24. You should leave random_state to its default (None), or set shuffle=True.\n",
            "  FutureWarning\n"
          ],
          "name": "stderr"
        }
      ]
    }
  ]
}
